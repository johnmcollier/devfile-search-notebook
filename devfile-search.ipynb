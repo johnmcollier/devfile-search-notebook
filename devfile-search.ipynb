{
 "cells": [
  {
   "cell_type": "markdown",
   "id": "dd45b3ee-1656-42f9-a855-0880eda7589a",
   "metadata": {},
   "source": [
    "Download Devfile json schema"
   ]
  },
  {
   "cell_type": "code",
   "execution_count": 8,
   "id": "ad0a2419-7ccb-4164-a8c0-5ce8459b99c1",
   "metadata": {
    "tags": []
   },
   "outputs": [],
   "source": [
    "import json\n",
    "import requests\n",
    "\n",
    "schemaUrl = \"https://devfile.io/devfile-schemas/2.2.2.json\"\n",
    "response = requests.get(schemaUrl, allow_redirects=True)\n",
    "content = response.content.decode(\"utf-8\")\n",
    "schema = json.loads(content)"
   ]
  },
  {
   "cell_type": "markdown",
   "id": "d066f7c3-17ff-4b4c-a9c2-71c97269df34",
   "metadata": {
    "tags": []
   },
   "source": [
    "Download Devfile validator from GitHub"
   ]
  },
  {
   "cell_type": "code",
   "execution_count": 9,
   "id": "933f6d9d-5934-4819-94b6-1aa933adf442",
   "metadata": {
    "tags": []
   },
   "outputs": [
    {
     "data": {
      "text/plain": [
       "('./validator', <http.client.HTTPMessage at 0x7fa8f523e370>)"
      ]
     },
     "execution_count": 9,
     "metadata": {},
     "output_type": "execute_result"
    }
   ],
   "source": [
    "import urllib.request as request\n",
    "url = \"https://raw.githubusercontent.com/yangcao77/library/validate-binary/main\"\n",
    "request.urlretrieve(url, \"./validator\")"
   ]
  },
  {
   "cell_type": "markdown",
   "id": "ab45fea2-5082-43b4-9096-352d58a9bdbf",
   "metadata": {},
   "source": [
    "Grant execute permissions to the validator binary"
   ]
  },
  {
   "cell_type": "code",
   "execution_count": 10,
   "id": "f0ae9796-486c-4437-b0ff-4048ae906173",
   "metadata": {
    "tags": []
   },
   "outputs": [
    {
     "data": {
      "text/plain": [
       "CompletedProcess(args=['chmod', '+x', './validator'], returncode=0)"
      ]
     },
     "execution_count": 10,
     "metadata": {},
     "output_type": "execute_result"
    }
   ],
   "source": [
    "import subprocess\n",
    "subprocess.run([\"chmod\", \"+x\", \"./validator\"]) "
   ]
  },
  {
   "cell_type": "markdown",
   "id": "0b6c3d49-59a6-48d8-8e65-77f9d47b445e",
   "metadata": {},
   "source": [
    "Define function to parse and validate a given devfile"
   ]
  },
  {
   "cell_type": "code",
   "execution_count": 11,
   "id": "8bdc9ed8-4601-4d8f-9b3c-9a624379b70c",
   "metadata": {
    "tags": []
   },
   "outputs": [],
   "source": [
    "from jsonschema import validate\n",
    "import yaml\n",
    "\n",
    "def parse_and_validate_devfile_url(url, schema):\n",
    "    response = requests.get(url, allow_redirects=True)\n",
    "    content = response.content.decode(\"utf-8\")\n",
    "    \n",
    "    try:\n",
    "        data = yaml.safe_load(content)\n",
    "    except:\n",
    "        return None\n",
    "    \n",
    "    if \"schemaVersion\" in data:\n",
    "        schemaVersion = data[\"schemaVersion\"]\n",
    "        if schemaVersion == \"2.0.0\" or schemaVersion == \"2.1.0\" or schemaVersion == \"2.2.0\":\n",
    "            try:\n",
    "                validate(data, schema)\n",
    "            except:\n",
    "                return None\n",
    "            return data\n",
    "    return None"
   ]
  },
  {
   "cell_type": "markdown",
   "id": "747e9ccc-d4b9-4294-804a-d5150b32bd1f",
   "metadata": {},
   "source": [
    "Define function to search all devfiles on GitHub"
   ]
  },
  {
   "cell_type": "code",
   "execution_count": 12,
   "id": "6f5f7201-4862-4910-8e62-80aeccd65818",
   "metadata": {
    "tags": []
   },
   "outputs": [],
   "source": [
    "from github import Github\n",
    "from github import Auth\n",
    "import os\n",
    "\n",
    "def search_github():\n",
    "\n",
    "    access_token = os.environ[\"ACCESS_TOKEN\"]\n",
    "\n",
    "    # using an access token\n",
    "    auth = Auth.Token(access_token)\n",
    "\n",
    "    # pygithub object\n",
    "    g = Github(auth=auth)\n",
    "\n",
    "    codes = g.search_code(query=\"filename:devfile.yaml\")\n",
    "   \n",
    "    print(\"Total number of files titled devfile.yaml after search: \", codes.totalCount, end=\"\\n\")\n",
    "    print(\"-----\")\n",
    "   \n",
    "    x = 0\n",
    "    devfileDataList = []\n",
    "    for code in codes:\n",
    "        x += 1\n",
    "        parsedDevfileData = parse_and_validate_devfile_url(code.download_url, schema)\n",
    "        if parsedDevfileData is not None:\n",
    "            devfileDataList.append(parsedDevfileData)\n",
    "    return devfileDataList"
   ]
  },
  {
   "cell_type": "code",
   "execution_count": 13,
   "id": "292d5500-8e39-4232-8793-b49e96d5d624",
   "metadata": {
    "tags": []
   },
   "outputs": [
    {
     "name": "stdout",
     "output_type": "stream",
     "text": [
      "Total number of files titled devfile.yaml after search:  1000\n",
      "-----\n"
     ]
    },
    {
     "data": {
      "text/plain": [
       "629"
      ]
     },
     "execution_count": 13,
     "metadata": {},
     "output_type": "execute_result"
    }
   ],
   "source": [
    "devfileDataList = search_github()\n",
    "len(devfileDataList)"
   ]
  },
  {
   "cell_type": "code",
   "execution_count": null,
   "id": "a93ba8c7-d24e-4a42-9c1b-1d3947804a5f",
   "metadata": {},
   "outputs": [],
   "source": []
  }
 ],
 "metadata": {
  "kernelspec": {
   "display_name": "Python 3.9",
   "language": "python",
   "name": "python3"
  },
  "language_info": {
   "codemirror_mode": {
    "name": "ipython",
    "version": 3
   },
   "file_extension": ".py",
   "mimetype": "text/x-python",
   "name": "python",
   "nbconvert_exporter": "python",
   "pygments_lexer": "ipython3",
   "version": "3.9.18"
  }
 },
 "nbformat": 4,
 "nbformat_minor": 5
}
